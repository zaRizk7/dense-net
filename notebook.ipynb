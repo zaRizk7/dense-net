{
 "cells": [
  {
   "cell_type": "code",
   "execution_count": 1,
   "metadata": {},
   "outputs": [],
   "source": [
    "import os\n",
    "import random\n",
    "\n",
    "from copy import deepcopy\n",
    "from datetime import datetime\n",
    "from collections import defaultdict\n",
    "\n",
    "import torch\n",
    "import numpy as np\n",
    "import pandas as pd\n",
    "import albumentations as A\n",
    "from PIL import Image\n",
    "from tqdm import tqdm\n",
    "from sklearn.metrics import classification_report\n",
    "from torch.utils.data import Dataset, DataLoader\n",
    "\n",
    "from densenet import DenseNet\n",
    "\n",
    "seed = datetime.today().year\n",
    "os.environ[\"PYTHONHASHSEED\"] = str(seed)\n",
    "random.seed(seed)\n",
    "np.random.seed(seed)\n",
    "torch.manual_seed(seed)\n",
    "\n",
    "os.environ[\"CUBLAS_WORKSPACE_CONFIG\"] = \":4096:8\"\n",
    "torch.use_deterministic_algorithms(True)\n",
    "device = torch.device(\"cuda\" if torch.cuda.is_available() else \"cpu\")\n"
   ]
  },
  {
   "cell_type": "code",
   "execution_count": 2,
   "metadata": {},
   "outputs": [],
   "source": [
    "class ImageDataset(Dataset):\n",
    "    def __init__(self, metadata: pd.DataFrame, transform=None):\n",
    "        super().__init__()\n",
    "        self.metadata = metadata.reset_index(drop=True)\n",
    "        self.classes_to_idx = {\n",
    "            cls: idx for idx, cls in enumerate(self.metadata.target.unique())\n",
    "        }\n",
    "        self.transform = transform\n",
    "\n",
    "    def __len__(self):\n",
    "        return len(self.metadata)\n",
    "\n",
    "    def __getitem__(self, idx):\n",
    "        metadata = self.metadata.iloc[idx]\n",
    "        image = Image.open(metadata.image)\n",
    "        image = np.asarray(image.convert(\"RGB\"))\n",
    "        label = self.classes_to_idx[metadata.target]\n",
    "        if not self.transform is None:\n",
    "            image = self.transform(image=image)[\"image\"]\n",
    "        image = image.transpose(2, 0, 1)\n",
    "        return image, label\n",
    "\n",
    "\n",
    "def create_metadata(root: str) -> pd.DataFrame:\n",
    "    classes = sorted([folder for folder in os.listdir(root)])\n",
    "    metadata = []\n",
    "    for cls in classes:\n",
    "        subfolder = f\"{root}/{cls}\"\n",
    "        for image in os.listdir(subfolder):\n",
    "            metadata += [{\"image\": f\"{subfolder}/{image}\", \"target\": cls}]\n",
    "    metadata = pd.DataFrame(metadata)\n",
    "    return metadata\n"
   ]
  },
  {
   "cell_type": "code",
   "execution_count": 3,
   "metadata": {},
   "outputs": [],
   "source": [
    "batch_size = 32\n",
    "epochs = 20\n",
    "\n",
    "metadata_train = create_metadata(\"train\")\n",
    "metadata_valid = create_metadata(\"valid\")\n",
    "metadata_test = create_metadata(\"test\")\n",
    "\n",
    "transform_train = A.Compose(\n",
    "    [\n",
    "        A.VerticalFlip(p=1 / 16),\n",
    "        A.HorizontalFlip(p=1 / 16),\n",
    "        A.ColorJitter(p=1 / 16),\n",
    "        A.Affine(1.25, p=1 / 16),\n",
    "        A.Resize(224, 224),\n",
    "        A.Normalize(),\n",
    "    ]\n",
    ")\n",
    "\n",
    "transform_eval = A.Compose([A.Resize(224, 224), A.Normalize()])\n",
    "\n",
    "dataset_train = ImageDataset(metadata_train, transform_train)\n",
    "dataset_valid = ImageDataset(metadata_valid, transform_eval)\n",
    "dataset_test = ImageDataset(metadata_test, transform_eval)\n",
    "\n",
    "\n",
    "trainloader = DataLoader(dataset_train, batch_size, True)\n",
    "validloader = DataLoader(dataset_valid, batch_size)\n",
    "testloader = DataLoader(dataset_test, batch_size)\n",
    "\n",
    "model = DenseNet(len(dataset_train.classes_to_idx), 3).to(device)\n",
    "optimizer = torch.optim.AdamW(model.parameters(), 1e-3)\n",
    "scheduler = torch.optim.lr_scheduler.CosineAnnealingLR(optimizer, len(trainloader) * 10)\n",
    "scaler = torch.cuda.amp.GradScaler()\n",
    "loss_function_train = torch.nn.CrossEntropyLoss(label_smoothing=0.1)\n",
    "loss_function_eval = torch.nn.CrossEntropyLoss(reduction=\"none\")\n"
   ]
  },
  {
   "cell_type": "code",
   "execution_count": 4,
   "metadata": {},
   "outputs": [
    {
     "name": "stdout",
     "output_type": "stream",
     "text": [
      "Epoch 1/20\n"
     ]
    },
    {
     "name": "stderr",
     "output_type": "stream",
     "text": [
      "100%|██████████| 1825/1825 [09:23<00:00,  3.24it/s, loss=3.88, accuracy=0.0828, precision=0.0456, recall=0.0487, f1=0.0461, val_loss=2.35, val_accuracy=0.243, val_precision=0.24, val_recall=0.244, val_f1=0.199]\n"
     ]
    },
    {
     "name": "stdout",
     "output_type": "stream",
     "text": [
      "Epoch 2/20\n"
     ]
    },
    {
     "name": "stderr",
     "output_type": "stream",
     "text": [
      "100%|██████████| 1825/1825 [09:21<00:00,  3.25it/s, loss=2.83, accuracy=0.387, precision=0.252, recall=0.252, f1=0.25, val_loss=1.56, val_accuracy=0.539, val_precision=0.636, val_recall=0.539, val_f1=0.523]\n"
     ]
    },
    {
     "name": "stdout",
     "output_type": "stream",
     "text": [
      "Epoch 3/20\n"
     ]
    },
    {
     "name": "stderr",
     "output_type": "stream",
     "text": [
      "100%|██████████| 1825/1825 [09:30<00:00,  3.20it/s, loss=2.57, accuracy=0.576, precision=0.417, recall=0.416, f1=0.414, val_loss=0.95, val_accuracy=0.725, val_precision=0.774, val_recall=0.725, val_f1=0.715]\n"
     ]
    },
    {
     "name": "stdout",
     "output_type": "stream",
     "text": [
      "Epoch 4/20\n"
     ]
    },
    {
     "name": "stderr",
     "output_type": "stream",
     "text": [
      "100%|██████████| 1825/1825 [04:47<00:00,  6.34it/s, loss=2.76, accuracy=0.666, precision=0.512, recall=0.51, f1=0.509, val_loss=nan, val_accuracy=0.0025, val_precision=6.25e-6, val_recall=0.0025, val_f1=1.25e-5]\n"
     ]
    },
    {
     "name": "stdout",
     "output_type": "stream",
     "text": [
      "Epoch 5/20\n"
     ]
    },
    {
     "name": "stderr",
     "output_type": "stream",
     "text": [
      "100%|██████████| 1825/1825 [04:45<00:00,  6.40it/s, loss=2, accuracy=0.663, precision=0.507, recall=0.505, f1=0.504, val_loss=nan, val_accuracy=0.0025, val_precision=6.25e-6, val_recall=0.0025, val_f1=1.25e-5]\n"
     ]
    },
    {
     "name": "stdout",
     "output_type": "stream",
     "text": [
      "Epoch 6/20\n"
     ]
    },
    {
     "name": "stderr",
     "output_type": "stream",
     "text": [
      "100%|██████████| 1825/1825 [04:46<00:00,  6.37it/s, loss=2.67, accuracy=0.668, precision=0.514, recall=0.512, f1=0.511, val_loss=nan, val_accuracy=0.0025, val_precision=6.25e-6, val_recall=0.0025, val_f1=1.25e-5]\n"
     ]
    },
    {
     "name": "stdout",
     "output_type": "stream",
     "text": [
      "Epoch 7/20\n"
     ]
    },
    {
     "name": "stderr",
     "output_type": "stream",
     "text": [
      "100%|██████████| 1825/1825 [04:42<00:00,  6.46it/s, loss=2.93, accuracy=0.666, precision=0.513, recall=0.511, f1=0.51, val_loss=nan, val_accuracy=0.0025, val_precision=6.25e-6, val_recall=0.0025, val_f1=1.25e-5]\n"
     ]
    },
    {
     "name": "stdout",
     "output_type": "stream",
     "text": [
      "Epoch 8/20\n"
     ]
    },
    {
     "name": "stderr",
     "output_type": "stream",
     "text": [
      "100%|██████████| 1825/1825 [04:42<00:00,  6.46it/s, loss=2.64, accuracy=0.665, precision=0.512, recall=0.509, f1=0.508, val_loss=nan, val_accuracy=0.0025, val_precision=6.25e-6, val_recall=0.0025, val_f1=1.25e-5]\n"
     ]
    },
    {
     "name": "stdout",
     "output_type": "stream",
     "text": [
      "Epoch 9/20\n"
     ]
    },
    {
     "name": "stderr",
     "output_type": "stream",
     "text": [
      "100%|██████████| 1825/1825 [04:44<00:00,  6.42it/s, loss=2.68, accuracy=0.659, precision=0.506, recall=0.504, f1=0.503, val_loss=nan, val_accuracy=0.0025, val_precision=6.25e-6, val_recall=0.0025, val_f1=1.25e-5]\n"
     ]
    },
    {
     "name": "stdout",
     "output_type": "stream",
     "text": [
      "Epoch 10/20\n"
     ]
    },
    {
     "name": "stderr",
     "output_type": "stream",
     "text": [
      "100%|██████████| 1825/1825 [04:49<00:00,  6.30it/s, loss=2.31, accuracy=0.662, precision=0.507, recall=0.506, f1=0.505, val_loss=nan, val_accuracy=0.0025, val_precision=6.25e-6, val_recall=0.0025, val_f1=1.25e-5]\n"
     ]
    },
    {
     "name": "stdout",
     "output_type": "stream",
     "text": [
      "Epoch 11/20\n"
     ]
    },
    {
     "name": "stderr",
     "output_type": "stream",
     "text": [
      "100%|██████████| 1825/1825 [04:42<00:00,  6.45it/s, loss=2.59, accuracy=0.66, precision=0.504, recall=0.502, f1=0.501, val_loss=nan, val_accuracy=0.0025, val_precision=6.25e-6, val_recall=0.0025, val_f1=1.25e-5]\n"
     ]
    },
    {
     "name": "stdout",
     "output_type": "stream",
     "text": [
      "Epoch 12/20\n"
     ]
    },
    {
     "name": "stderr",
     "output_type": "stream",
     "text": [
      "100%|██████████| 1825/1825 [04:44<00:00,  6.41it/s, loss=2.82, accuracy=0.667, precision=0.513, recall=0.511, f1=0.51, val_loss=nan, val_accuracy=0.0025, val_precision=6.25e-6, val_recall=0.0025, val_f1=1.25e-5]\n"
     ]
    },
    {
     "name": "stdout",
     "output_type": "stream",
     "text": [
      "Epoch 13/20\n"
     ]
    },
    {
     "name": "stderr",
     "output_type": "stream",
     "text": [
      "100%|██████████| 1825/1825 [04:45<00:00,  6.39it/s, loss=2.93, accuracy=0.667, precision=0.513, recall=0.512, f1=0.511, val_loss=nan, val_accuracy=0.0025, val_precision=6.25e-6, val_recall=0.0025, val_f1=1.25e-5]\n"
     ]
    },
    {
     "name": "stdout",
     "output_type": "stream",
     "text": [
      "Epoch 14/20\n"
     ]
    },
    {
     "name": "stderr",
     "output_type": "stream",
     "text": [
      "100%|██████████| 1825/1825 [04:47<00:00,  6.35it/s, loss=2.5, accuracy=0.659, precision=0.504, recall=0.502, f1=0.501, val_loss=nan, val_accuracy=0.0025, val_precision=6.25e-6, val_recall=0.0025, val_f1=1.25e-5]\n"
     ]
    },
    {
     "name": "stdout",
     "output_type": "stream",
     "text": [
      "Epoch 15/20\n"
     ]
    },
    {
     "name": "stderr",
     "output_type": "stream",
     "text": [
      "100%|██████████| 1825/1825 [04:43<00:00,  6.44it/s, loss=2.66, accuracy=0.664, precision=0.51, recall=0.508, f1=0.507, val_loss=nan, val_accuracy=0.0025, val_precision=6.25e-6, val_recall=0.0025, val_f1=1.25e-5]\n"
     ]
    },
    {
     "name": "stdout",
     "output_type": "stream",
     "text": [
      "Epoch 16/20\n"
     ]
    },
    {
     "name": "stderr",
     "output_type": "stream",
     "text": [
      "100%|██████████| 1825/1825 [04:42<00:00,  6.45it/s, loss=2.2, accuracy=0.664, precision=0.509, recall=0.507, f1=0.506, val_loss=nan, val_accuracy=0.0025, val_precision=6.25e-6, val_recall=0.0025, val_f1=1.25e-5]\n"
     ]
    },
    {
     "name": "stdout",
     "output_type": "stream",
     "text": [
      "Epoch 17/20\n"
     ]
    },
    {
     "name": "stderr",
     "output_type": "stream",
     "text": [
      "100%|██████████| 1825/1825 [04:44<00:00,  6.41it/s, loss=2.73, accuracy=0.665, precision=0.51, recall=0.509, f1=0.508, val_loss=nan, val_accuracy=0.0025, val_precision=6.25e-6, val_recall=0.0025, val_f1=1.25e-5]\n"
     ]
    },
    {
     "name": "stdout",
     "output_type": "stream",
     "text": [
      "Epoch 18/20\n"
     ]
    },
    {
     "name": "stderr",
     "output_type": "stream",
     "text": [
      "100%|██████████| 1825/1825 [04:46<00:00,  6.38it/s, loss=2.19, accuracy=0.663, precision=0.508, recall=0.506, f1=0.505, val_loss=nan, val_accuracy=0.0025, val_precision=6.25e-6, val_recall=0.0025, val_f1=1.25e-5]\n"
     ]
    },
    {
     "name": "stdout",
     "output_type": "stream",
     "text": [
      "Epoch 19/20\n"
     ]
    },
    {
     "name": "stderr",
     "output_type": "stream",
     "text": [
      "100%|██████████| 1825/1825 [04:43<00:00,  6.45it/s, loss=2.63, accuracy=0.662, precision=0.508, recall=0.506, f1=0.505, val_loss=nan, val_accuracy=0.0025, val_precision=6.25e-6, val_recall=0.0025, val_f1=1.25e-5]\n"
     ]
    },
    {
     "name": "stdout",
     "output_type": "stream",
     "text": [
      "Epoch 20/20\n"
     ]
    },
    {
     "name": "stderr",
     "output_type": "stream",
     "text": [
      "100%|██████████| 1825/1825 [04:41<00:00,  6.48it/s, loss=3.26, accuracy=0.664, precision=0.51, recall=0.508, f1=0.507, val_loss=nan, val_accuracy=0.0025, val_precision=6.25e-6, val_recall=0.0025, val_f1=1.25e-5]\n"
     ]
    }
   ],
   "source": [
    "loss_best = torch.inf\n",
    "history = []\n",
    "for i in range(1, epochs + 1):\n",
    "    print(f\"Epoch {i}/{epochs}\")\n",
    "    progbar = tqdm(total=len(trainloader))\n",
    "    model.train()\n",
    "    metrics_train = defaultdict(float)\n",
    "    results_train = defaultdict(list)\n",
    "    for i, (inputs, targets) in enumerate(trainloader):\n",
    "        inputs = inputs.to(device)\n",
    "        targets = targets.to(device)\n",
    "\n",
    "        with torch.cuda.amp.autocast():\n",
    "            outputs = model(inputs)\n",
    "            loss = loss_function_train(outputs, targets)\n",
    "\n",
    "        if loss.isnan():\n",
    "            break\n",
    "\n",
    "        scale = scaler.get_scale()\n",
    "        scaler.scale(loss).backward()\n",
    "        scaler.step(optimizer)\n",
    "        optimizer.step()\n",
    "        scaler.update()\n",
    "        if scale > scaler.get_scale():\n",
    "            scheduler.step()\n",
    "        optimizer.zero_grad()\n",
    "\n",
    "        loss = loss.detach().cpu().numpy()\n",
    "        outputs = outputs.detach().cpu().argmax(-1).numpy()\n",
    "        targets = targets.detach().cpu().numpy()\n",
    "\n",
    "        score = classification_report(\n",
    "            targets, outputs, output_dict=True, zero_division=0\n",
    "        )\n",
    "\n",
    "        results_train[\"loss\"] += [loss]\n",
    "        results_train[\"accuracy\"] += [score[\"accuracy\"]]\n",
    "        results_train[\"precision\"] += [score[\"macro avg\"][\"precision\"]]\n",
    "        results_train[\"recall\"] += [score[\"macro avg\"][\"recall\"]]\n",
    "        results_train[\"f1\"] += [score[\"macro avg\"][\"f1-score\"]]\n",
    "\n",
    "        metrics_train[\"loss\"] = np.mean(loss)\n",
    "        metrics_train[\"accuracy\"] = np.mean(results_train[\"accuracy\"])\n",
    "        metrics_train[\"precision\"] = np.mean(results_train[\"precision\"])\n",
    "        metrics_train[\"recall\"] = np.mean(results_train[\"recall\"])\n",
    "        metrics_train[\"f1\"] = np.mean(results_train[\"f1\"])\n",
    "\n",
    "        progbar.set_postfix(metrics_train)\n",
    "        progbar.update(1)\n",
    "\n",
    "    model.eval()\n",
    "    metrics_valid = defaultdict(float)\n",
    "    results_valid = defaultdict(list)\n",
    "    for i, (inputs, targets) in enumerate(validloader):\n",
    "        inputs = inputs.to(device)\n",
    "        targets = targets.to(device)\n",
    "\n",
    "        with torch.cuda.amp.autocast():\n",
    "            outputs = model(inputs)\n",
    "            loss = loss_function_eval(outputs, targets)\n",
    "\n",
    "        loss = loss.detach().cpu().numpy().tolist()\n",
    "        outputs = outputs.detach().cpu().argmax(-1).numpy().tolist()\n",
    "        targets = targets.detach().cpu().numpy().tolist()\n",
    "\n",
    "        results_valid[\"loss\"] += loss\n",
    "        results_valid[\"output\"] += outputs\n",
    "        results_valid[\"target\"] += targets\n",
    "\n",
    "    score = classification_report(\n",
    "        results_valid[\"target\"],\n",
    "        results_valid[\"output\"],\n",
    "        output_dict=True,\n",
    "        zero_division=0,\n",
    "    )\n",
    "    metrics_valid[\"val_loss\"] = np.mean(loss)\n",
    "    metrics_valid[\"val_accuracy\"] = score[\"accuracy\"]\n",
    "    metrics_valid[\"val_precision\"] = score[\"macro avg\"][\"precision\"]\n",
    "    metrics_valid[\"val_recall\"] = score[\"macro avg\"][\"recall\"]\n",
    "    metrics_valid[\"val_f1\"] = score[\"macro avg\"][\"f1-score\"]\n",
    "\n",
    "    metrics = {**metrics_train, **metrics_valid}\n",
    "    progbar.set_postfix(metrics)\n",
    "    progbar.close()\n",
    "    history += [metrics]\n",
    "    if loss_best > history[-1][\"val_loss\"]:\n",
    "        loss_best = history[-1][\"val_loss\"]\n",
    "        model_best = deepcopy(model.state_dict())\n",
    "        optimizer_best = deepcopy(optimizer.state_dict())\n",
    "        scheduler_best = deepcopy(scheduler.state_dict())\n",
    "        scaler_best = deepcopy(scaler.state_dict())\n",
    "\n",
    "    model.load_state_dict(model_best)\n",
    "    optimizer.load_state_dict(optimizer_best)\n",
    "    scheduler.load_state_dict(scheduler_best)\n",
    "    scaler.load_state_dict(scaler_best)\n"
   ]
  },
  {
   "cell_type": "code",
   "execution_count": 5,
   "metadata": {},
   "outputs": [
    {
     "name": "stderr",
     "output_type": "stream",
     "text": [
      "100%|██████████| 63/63 [00:05<00:00, 10.58it/s, loss=0.671, accuracy=0.762, precision=0.817, recall=0.762, f1=0.757]\n"
     ]
    },
    {
     "ename": "",
     "evalue": "",
     "output_type": "error",
     "traceback": [
      "\u001b[1;31mThe Kernel crashed while executing code in the the current cell or a previous cell. Please review the code in the cell(s) to identify a possible cause of the failure. Click <a href='https://aka.ms/vscodeJupyterKernelCrash'>here</a> for more info. View Jupyter <a href='command:jupyter.viewOutput'>log</a> for further details."
     ]
    }
   ],
   "source": [
    "model.eval()\n",
    "metrics_test = defaultdict(float)\n",
    "results_test = defaultdict(list)\n",
    "progbar = tqdm(total=len(testloader))\n",
    "for i, (inputs, targets) in enumerate(testloader):\n",
    "    inputs = inputs.to(device)\n",
    "    targets = targets.to(device)\n",
    "\n",
    "    with torch.cuda.amp.autocast():\n",
    "        outputs = model(inputs)\n",
    "        loss = loss_function_eval(outputs, targets)\n",
    "\n",
    "    loss = loss.detach().cpu().numpy().tolist()\n",
    "    outputs = outputs.detach().cpu().argmax(-1).numpy().tolist()\n",
    "    targets = targets.detach().cpu().numpy().tolist()\n",
    "\n",
    "    results_test[\"loss\"] += loss\n",
    "    results_test[\"output\"] += outputs\n",
    "    results_test[\"target\"] += targets\n",
    "\n",
    "    score = classification_report(\n",
    "        results_test[\"target\"],\n",
    "        results_test[\"output\"],\n",
    "        output_dict=True,\n",
    "        zero_division=0,\n",
    "    )\n",
    "    metrics_test[\"loss\"] = np.mean(loss)\n",
    "    metrics_test[\"accuracy\"] = score[\"accuracy\"]\n",
    "    metrics_test[\"precision\"] = score[\"macro avg\"][\"precision\"]\n",
    "    metrics_test[\"recall\"] = score[\"macro avg\"][\"recall\"]\n",
    "    metrics_test[\"f1\"] = score[\"macro avg\"][\"f1-score\"]\n",
    "    progbar.set_postfix(metrics_test)\n",
    "    progbar.update(1)\n",
    "metrics_test = {k: v / (i + 1) for k, v in metrics_test.items()}\n",
    "progbar.close()\n"
   ]
  }
 ],
 "metadata": {
  "kernelspec": {
   "display_name": "Python 3.9.7 64-bit",
   "language": "python",
   "name": "python3"
  },
  "language_info": {
   "codemirror_mode": {
    "name": "ipython",
    "version": 3
   },
   "file_extension": ".py",
   "mimetype": "text/x-python",
   "name": "python",
   "nbconvert_exporter": "python",
   "pygments_lexer": "ipython3",
   "version": "3.9.7"
  },
  "orig_nbformat": 4,
  "vscode": {
   "interpreter": {
    "hash": "c347c8f9a7ef94e4c9e03b4513be7835ed18f45b99a2a817fb579f408b867b16"
   }
  }
 },
 "nbformat": 4,
 "nbformat_minor": 2
}
